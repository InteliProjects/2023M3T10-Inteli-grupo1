{
 "cells": [
  {
   "cell_type": "markdown",
   "metadata": {},
   "source": [
    "# Bibliotecas e dados"
   ]
  },
  {
   "cell_type": "code",
   "execution_count": null,
   "metadata": {},
   "outputs": [],
   "source": [
    "# Instala as dependências\n",
    "!pip install -r ../requirements.txt"
   ]
  },
  {
   "cell_type": "code",
   "execution_count": null,
   "metadata": {},
   "outputs": [],
   "source": [
    "import pandas as pd \n",
    "import numpy as np\n",
    "import matplotlib.pyplot as plt\n",
    "from sklearn.ensemble import IsolationForest\n",
    "import seaborn as sns"
   ]
  },
  {
   "cell_type": "code",
   "execution_count": null,
   "metadata": {},
   "outputs": [],
   "source": [
    "dados = pd.read_csv('../data/tratado/dados_cvm_tratados.csv')"
   ]
  },
  {
   "cell_type": "code",
   "execution_count": null,
   "metadata": {},
   "outputs": [],
   "source": [
    "# Evitando logs no plot de gráficos\n",
    "pd.options.mode.chained_assignment = None"
   ]
  },
  {
   "cell_type": "markdown",
   "metadata": {},
   "source": [
    "# Isolation Forest\n"
   ]
  },
  {
   "cell_type": "markdown",
   "metadata": {},
   "source": [
    "Diante do desafio de identificar e prever problemas relacionados à provisão de perdas em Fundos de Investimento em Direitos Creditórios, é imperativo explorar métodos analíticos avançados para fornecer resultados valiosos. Dentre as abordagens consideradas, destaca-se o uso do algoritmo *Isolation Forest*, devido à sua eficácia em identificar padrões de anomalias em conjuntos de dados complexos, como o cenário apresentado.\n",
    "\n",
    "O *Isolation Forest* é uma técnica de detecção de anomalias que se baseia em uma abordagem não linear para separar observações atípicas das normais em um conjunto de dados. Ele se destaca por sua capacidade de construir rapidamente um conjunto de árvores de decisão, onde os caminhos mais curtos são mais prováveis de serem trilhados por observações anômalas. Essa característica o torna particularmente adequado para detecção de anomalias em problemas complexos e de alta dimensionalidade, como é o caso das transações e movimentações de créditos em FIDCs.\n",
    "\n",
    "Considerando o problema exposto, em que o objetivo é prever a ocorrência de problemas relacionados à insuficiência ou ausência de provisão para perdas em FIDCs, a aplicação do *Isolation Forest* pode nos proporcionar ideias diferenciadas. Ao analisar os padrões de transações, comportamentos e interações entre os diferentes tipos de créditos adquiridos pelo fundo, o modelo pode destacar transações ou combinações incomuns que indicam um potencial problema de inadimplência futura.\n",
    "\n",
    "O processo de detecção de anomalias do *Isolation Forest* nos permitirá identificar de maneira eficaz os casos em que a provisão para perdas pode ser inadequada, seja devido a um número anormalmente elevado de transações de alto risco ou a padrões de crédito inconsistentes. Ao identificar esses pontos fora do padrão, estaremos mais próximos de construir um modelo eficiente e preditivo."
   ]
  },
  {
   "cell_type": "code",
   "execution_count": null,
   "metadata": {},
   "outputs": [],
   "source": [
    "dados.info()"
   ]
  },
  {
   "cell_type": "code",
   "execution_count": null,
   "metadata": {},
   "outputs": [],
   "source": [
    "dados = dados.drop(columns=['Data_Competencia'])"
   ]
  },
  {
   "cell_type": "code",
   "execution_count": null,
   "metadata": {},
   "outputs": [],
   "source": [
    "dados['Carteira_Classificação_encoded'].value_counts()"
   ]
  },
  {
   "cell_type": "markdown",
   "metadata": {},
   "source": [
    "- Comercial_Total        3\n",
    "- Multimercado           8\n",
    "- Financeiro             5\n",
    "- Servicos_Total          9\n",
    "- Industrial              6\n",
    "- Cartao_Credito          2\n",
    "- Agronegocio             1\n",
    "- Factoring               7\n",
    "- Mercado_Imobiliario      4\n",
    "- Setor_Publico             0\n",
    "- Acoes_Judiciais           10"
   ]
  },
  {
   "cell_type": "code",
   "execution_count": null,
   "metadata": {},
   "outputs": [],
   "source": [
    "# Lista de carteiras com índices correspondentes à classificação\n",
    "classificacao_encoding = [\n",
    "    'SetorPublico',\n",
    "    'Agronegocio',\n",
    "    'Cartao',\n",
    "    'Comercial',\n",
    "    'Imobiliario',\n",
    "    'Financeiro',\n",
    "    'Industrial',\n",
    "    'Factoring',\n",
    "    'Multimercado',\n",
    "    'Servicos',\n",
    "    'AcoesJudiciais'\n",
    "]"
   ]
  },
  {
   "cell_type": "code",
   "execution_count": null,
   "metadata": {},
   "outputs": [],
   "source": [
    "# Separando os dados por carteira\n",
    "dados_classificacao = {\n",
    "    'Setor Público': dados.loc[dados['Carteira_Classificação_encoded'] == classificacao_encoding.index('SetorPublico')],\n",
    "    'Agronegócio': dados.loc[dados['Carteira_Classificação_encoded'] == classificacao_encoding.index('Agronegocio')],\n",
    "    'Cartão': dados.loc[dados['Carteira_Classificação_encoded'] == classificacao_encoding.index('Cartao')],\n",
    "    'Comercial': dados.loc[dados['Carteira_Classificação_encoded'] == classificacao_encoding.index('Comercial')],\n",
    "    'Imobiliário': dados.loc[dados['Carteira_Classificação_encoded'] == classificacao_encoding.index('Imobiliario')],\n",
    "    'Financeiro': dados.loc[dados['Carteira_Classificação_encoded'] == classificacao_encoding.index('Financeiro')],\n",
    "    'Industrial': dados.loc[dados['Carteira_Classificação_encoded'] == classificacao_encoding.index('Industrial')],\n",
    "    'Factoring': dados.loc[dados['Carteira_Classificação_encoded'] == classificacao_encoding.index('Factoring')],\n",
    "    'Multimercado': dados.loc[dados['Carteira_Classificação_encoded'] == classificacao_encoding.index('Multimercado')],\n",
    "    'Serviços': dados.loc[dados['Carteira_Classificação_encoded'] == classificacao_encoding.index('Servicos')],\n",
    "    'Ações Judiciais': dados.loc[dados['Carteira_Classificação_encoded'] == classificacao_encoding.index('AcoesJudiciais')]\n",
    "}"
   ]
  },
  {
   "cell_type": "code",
   "execution_count": null,
   "metadata": {},
   "outputs": [],
   "source": [
    "dados_classificacao['Serviços'].shape"
   ]
  },
  {
   "cell_type": "code",
   "execution_count": null,
   "metadata": {},
   "outputs": [],
   "source": [
    "dados_classificacao['Industrial'].shape"
   ]
  },
  {
   "cell_type": "markdown",
   "metadata": {},
   "source": [
    "# Construção do modelo"
   ]
  },
  {
   "cell_type": "code",
   "execution_count": null,
   "metadata": {},
   "outputs": [],
   "source": [
    "def detectar_outliers(dados, contaminacao=0.05, random_state=42):\n",
    "    # Construindo o modelo Isolation Forest\n",
    "    clf = IsolationForest(n_estimators=100, max_samples='auto', contamination=contaminacao, max_features=1.0, bootstrap=False, n_jobs=-1, random_state=random_state, verbose=0)\n",
    "    clf.fit(dados)\n",
    "\n",
    "    # Predição dos outliers\n",
    "    pred = clf.predict(dados)\n",
    "    dados.loc[:, 'anomalias'] = pred\n",
    "\n",
    "    # Filtrando os outliers\n",
    "    outliers = dados.loc[dados['anomalias'] == -1]\n",
    "\n",
    "    # Contagem dos outliers para cada valor único em 'ID_Participante'\n",
    "    top_outliers = outliers['ID_Participante'].value_counts().head(10)\n",
    "\n",
    "    return top_outliers"
   ]
  },
  {
   "cell_type": "markdown",
   "metadata": {},
   "source": [
    "# Analisando os resultados"
   ]
  },
  {
   "cell_type": "code",
   "execution_count": null,
   "metadata": {},
   "outputs": [],
   "source": [
    "dados_raw = pd.read_csv('../data/tratado/dados_cvm_tratados.csv')\n",
    "\n",
    "def pipeline_analise(classificacao, numero_outliers=2):\n",
    "    top_outliers = detectar_outliers(dados_classificacao[classificacao])\n",
    "    if len(top_outliers) < numero_outliers:\n",
    "        numero_outliers = len(top_outliers)\n",
    "        \n",
    "    for i in range(numero_outliers):\n",
    "        df_analise = dados_raw.query(f'ID_Participante == {top_outliers.index[i]}')\n",
    "\n",
    "        fig, ax = plt.subplots(figsize=(15, 5))\n",
    "        ax.plot(df_analise['Data_Competencia'], df_analise['Inadimplencia_Total'], label='Inadimplencia_Total')\n",
    "        ax.plot(df_analise['Data_Competencia'], df_analise['Provisao_Total'], label='Provisao_Total')\n",
    "        ax.set_title(f'Inadimplencia_Total e Provisao_Total - ID_Participante: {top_outliers.index[i]}')\n",
    "        ax.legend()\n",
    "        plt.show()"
   ]
  },
  {
   "cell_type": "code",
   "execution_count": null,
   "metadata": {},
   "outputs": [],
   "source": [
    "for item in dados_classificacao.keys():\n",
    "    pipeline_analise(item, numero_outliers=3)"
   ]
  }
 ],
 "metadata": {
  "kernelspec": {
   "display_name": "Python 3",
   "language": "python",
   "name": "python3"
  },
  "language_info": {
   "codemirror_mode": {
    "name": "ipython",
    "version": 3
   },
   "file_extension": ".py",
   "mimetype": "text/x-python",
   "name": "python",
   "nbconvert_exporter": "python",
   "pygments_lexer": "ipython3",
   "version": "3.11.5"
  },
  "orig_nbformat": 4
 },
 "nbformat": 4,
 "nbformat_minor": 2
}
