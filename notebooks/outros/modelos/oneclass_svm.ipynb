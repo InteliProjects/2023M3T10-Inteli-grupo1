{
  "cells": [
    {
      "cell_type": "code",
      "execution_count": null,
      "metadata": {},
      "outputs": [],
      "source": [
        "# Instala as dependências\n",
        "!pip install -r ../../../requirements.txt"
      ]
    },
    {
      "cell_type": "code",
      "execution_count": null,
      "metadata": {
        "id": "iAcrRMDCgPce"
      },
      "outputs": [],
      "source": [
        "import pandas as pd\n",
        "from sklearn.svm import OneClassSVM\n",
        "import matplotlib.pyplot as plt"
      ]
    },
    {
      "cell_type": "code",
      "execution_count": null,
      "metadata": {
        "id": "gOOLbr1-go8k"
      },
      "outputs": [],
      "source": [
        "dados = pd.read_csv('../../../data/tratado/dados_cvm_tratados.csv')"
      ]
    },
    {
      "cell_type": "code",
      "execution_count": null,
      "metadata": {},
      "outputs": [],
      "source": [
        "# Evitando logs no plot de gráficos\n",
        "pd.options.mode.chained_assignment = None"
      ]
    },
    {
      "cell_type": "markdown",
      "metadata": {
        "id": "SB2OPZjKksfJ"
      },
      "source": [
        "# *OneClassSVM*\n",
        "\n",
        "No desafio de identificar e prever problemas relacionados à provisão de perdas em Fundos de Investimento em Direitos Creditórios, é essencial explorar métodos que permitam detectar anomalias. Entre as abordagens consideradas, destaca-se o uso do modelo *One-Class SVM*, devido à sua eficácia em identificar anomalias em conjuntos de dados complexos, como o cenário apresentado.\n",
        "\n",
        "O modelo *One-Class SVM* é uma técnica de detecção de anomalias que se baseia em uma abordagem de aprendizado de máquina para distinguir observações normais de observações anômalas em um conjunto de dados. Ele é particularmente adequado para problemas em que a maioria dos dados é composta por observações normais e as anomalias são raras. Aqui, ele pode ser aplicado para prever a ocorrência de problemas relacionados à insuficiência ou ausência de provisão para perdas em FIDCs.\n",
        "\n",
        "O funcionamento do modelo *One-Class SVM* envolve a criação de uma \"fronteira\" em torno da maioria dos dados normais, tentando maximizar a margem entre essa fronteira e as observações normais. Tudo o que estiver fora dessa fronteira é considerado uma anomalia. Em outras palavras, o modelo tenta encontrar um hiperplano que melhor separe os dados normais das anomalias, minimizando o número de observações anômalas que caem do lado errado do hiperplano.\n",
        "\n",
        "Usaremos os resultados obtidos com o modelo *One-Class SVM* para destacar e apresentar as observações consideradas como outliers nos gráficos dos Fundos de Investimento em Direitos Creditórios (FIDCs) que demonstrarem a maior quantidade de SK_Documentos classificados como anomalias. Em seguida, compararemos esses resultados com os obtidos pelo nosso modelo principal, o Isolation Forest. Essa abordagem permitirá uma análise comparativa abrangente, ajudando-nos a avaliar a eficácia de ambos os modelos na detecção de problemas relacionados à provisão de perdas em FIDCs e, potencialmente, identificar áreas em que um modelo supera o outro em termos de sensibilidade e especificidade na detecção de anomalias."
      ]
    },
    {
      "cell_type": "code",
      "execution_count": null,
      "metadata": {
        "id": "QBgWqq0Yhr_U"
      },
      "outputs": [],
      "source": [
        "dados = dados.drop(columns=['Data_Competencia'])\n"
      ]
    },
    {
      "cell_type": "code",
      "execution_count": null,
      "metadata": {
        "id": "qfJeKM45wSHn"
      },
      "outputs": [],
      "source": [
        "# Lista de carteiras com índices correspondentes à classificação\n",
        "classificacao_encoding = [\n",
        "    'SetorPublico',\n",
        "    'Agronegocio',\n",
        "    'Cartao',\n",
        "    'Comercial',\n",
        "    'Imobiliario',\n",
        "    'Financeiro',\n",
        "    'Industrial',\n",
        "    'Factoring',\n",
        "    'Multimercado',\n",
        "    'Servicos',\n",
        "    'AcoesJudiciais'\n",
        "]"
      ]
    },
    {
      "cell_type": "code",
      "execution_count": null,
      "metadata": {
        "id": "f7OeDIEqwZTm"
      },
      "outputs": [],
      "source": [
        "# Separando os dados por carteira\n",
        "dados_classificacao = {\n",
        "    'Setor Público': dados.loc[dados['Carteira_Classificação_encoded'] == classificacao_encoding.index('SetorPublico')],\n",
        "    'Agronegócio': dados.loc[dados['Carteira_Classificação_encoded'] == classificacao_encoding.index('Agronegocio')],\n",
        "    'Cartão': dados.loc[dados['Carteira_Classificação_encoded'] == classificacao_encoding.index('Cartao')],\n",
        "    'Comercial': dados.loc[dados['Carteira_Classificação_encoded'] == classificacao_encoding.index('Comercial')],\n",
        "    'Imobiliário': dados.loc[dados['Carteira_Classificação_encoded'] == classificacao_encoding.index('Imobiliario')],\n",
        "    'Financeiro': dados.loc[dados['Carteira_Classificação_encoded'] == classificacao_encoding.index('Financeiro')],\n",
        "    'Industrial': dados.loc[dados['Carteira_Classificação_encoded'] == classificacao_encoding.index('Industrial')],\n",
        "    'Factoring': dados.loc[dados['Carteira_Classificação_encoded'] == classificacao_encoding.index('Factoring')],\n",
        "    'Multimercado': dados.loc[dados['Carteira_Classificação_encoded'] == classificacao_encoding.index('Multimercado')],\n",
        "    'Serviços': dados.loc[dados['Carteira_Classificação_encoded'] == classificacao_encoding.index('Servicos')],\n",
        "    'Ações Judiciais': dados.loc[dados['Carteira_Classificação_encoded'] == classificacao_encoding.index('AcoesJudiciais')]\n",
        "}"
      ]
    },
    {
      "cell_type": "markdown",
      "metadata": {
        "id": "XUUZ6QkGwfLC"
      },
      "source": [
        "# Construção do Modelo"
      ]
    },
    {
      "cell_type": "code",
      "execution_count": null,
      "metadata": {
        "id": "AXmiq3AFrn7C"
      },
      "outputs": [],
      "source": [
        "def detectar_outliers(dados, nu=0.05, kernel='rbf'):\n",
        "    clf = OneClassSVM(gamma='auto', nu=nu, kernel=kernel)\n",
        "    clf.fit(dados)\n",
        "\n",
        "    # Predição dos outliers\n",
        "    pred = clf.predict(dados)\n",
        "    dados.loc[:, 'anomalias'] = pred\n",
        "\n",
        "    # Filtrando os outliers\n",
        "    outliers = dados.loc[dados['anomalias'] == -1]\n",
        "\n",
        "    # Contagem dos outliers para cada valor único em 'ID_Participante'\n",
        "    top_outliers = outliers['ID_Participante'].value_counts().head(10)\n",
        "\n",
        "    return top_outliers"
      ]
    },
    {
      "cell_type": "markdown",
      "metadata": {
        "id": "RCdk7lQXnlIV"
      },
      "source": [
        "# Analisando os Resultados"
      ]
    },
    {
      "cell_type": "code",
      "execution_count": null,
      "metadata": {
        "id": "Vdh2l9NPnpRw"
      },
      "outputs": [],
      "source": [
        "dados_raw = pd.read_csv('../../../data/tratado/dados_cvm_tratados.csv')\n",
        "\n",
        "def pipeline_analise(classificacao, numero_outliers=2, kernel='rbf'):\n",
        "    top_outliers = detectar_outliers(dados_classificacao[classificacao], kernel=kernel)\n",
        "    for i in range(min(numero_outliers, len(top_outliers))):\n",
        "        df_analise = dados_raw.query(f'ID_Participante == {top_outliers.index[i]}')\n",
        "\n",
        "        fig, ax = plt.subplots(figsize=(15, 5))\n",
        "        ax.plot(df_analise['Data_Competencia'], df_analise['Inadimplencia_Total'], label='Inadimplencia_Total')\n",
        "        ax.plot(df_analise['Data_Competencia'], df_analise['Provisao_Total'], label='Provisao_Total')\n",
        "        ax.set_title(f'Inadimplencia_Total e Provisao_Total - ID_Participante: {top_outliers.index[i]} - Carteira: {classificacao}')\n",
        "        ax.legend()\n",
        "        plt.show()"
      ]
    },
    {
      "cell_type": "markdown",
      "metadata": {
        "id": "YETzv27hrfAU"
      },
      "source": [
        "# Otimização de hiperparâmetros do *OneClassSVM*\n",
        "A presente seção se concentra na otimização dos hiperparâmetros associados ao algoritmo *One-Class Support Vector Machine (OneClassSVM)*. Este processo é realizado de forma iterativa, preservando o valor do hiperparâmetro \"nu\" estabelecido em 0.05, o qual representa o nível de contaminação. Importa salientar que este valor já foi submetido a testes prévios e validado no contexto do algoritmo *Isolation Forest*.\n",
        "O procedimento de otimização é conduzido através de uma iteração sistemática sobre diferentes *kernels* disponíveis. A escolha do *kernel* apropriado é de suma importância, uma vez que influencia diretamente o desempenho do modelo OneClassSVM. Os *kernel*s submetidos a análise abrangem:\n",
        "\n",
        "*Kernel RBF (Radial Basis Function)*: Este *kernel* utiliza uma função de base radial, sendo amplamente empregado devido à sua flexibilidade e capacidade de modelar relações complexas nos dados. Ele é especialmente útil quando não se tem conhecimento prévio sobre a distribuição dos dados.\n",
        "\n",
        "*Kernel Linear*: O *kernel* linear é uma escolha fundamental quando se presume que os dados possuam uma estrutura linear subjacente. Ele é eficaz na detecção de anomalias em conjuntos de dados que apresentam uma separação linear entre as classes normais e as anomalias.\n",
        "\n",
        "*Kernel Polinomial (Poly)*: O *kernel* polinomial é empregado quando se suspeita que os dados possam seguir uma relação polinomial. Ele é adequado para modelar padrões mais complexos do que o *kernel* linear, mas menos complexos do que o *kernel* RBF.\n",
        "\n",
        "*Kernel* Sigmóide: O *kernel* sigmóide é útil em situações onde se acredita que os dados possam seguir uma relação sigmóide. Ele pode ser empregado quando a separação entre classes não é necessariamente linear, mas ainda assim não segue a complexidade do *kernel* RBF.\n",
        "\n",
        "A avaliação dos resultados obtidos com cada *kernel* se baseia na análise das métricas relacionadas à inadimplência e provisão, visualizadas em gráficos. O objetivo principal é identificar o modelo que apresente os resultados mais anômalos. Nesse contexto, a anomalia se refere a observações que divergem significativamente do comportamento esperado, em que as provisões acompanham ou superam a inadimplência, sendo de interesse primordial na análise de detecção de anomalias."
      ]
    },
    {
      "cell_type": "code",
      "execution_count": null,
      "metadata": {
        "colab": {
          "base_uri": "https://localhost:8080/",
          "height": 1000
        },
        "id": "OiixLh87rlrK",
        "outputId": "8245be85-4e6b-47b0-cea6-7e38dbf03dfc"
      },
      "outputs": [],
      "source": [
        "available_kernels = [\n",
        "    'rbf',\n",
        "    'linear',\n",
        "    'poly',\n",
        "    'sigmoid'\n",
        "]\n",
        "\n",
        "for kernel in available_kernels:\n",
        "    for item in dados_classificacao.keys():\n",
        "      print(item)\n",
        "      pipeline_analise(item, numero_outliers=3, kernel=kernel)"
      ]
    },
    {
      "cell_type": "markdown",
      "metadata": {},
      "source": [
        "# Resultados da Análise\n",
        "Após uma análise criteriosa dos resultados obtidos na otimização de hiperparâmetros do *OneClassSVM*, foi observado que os *kernel*s mais promissores foram o linear e o RBF (*Radial Basis Function*). Ambos os *kernels* demonstraram capacidade de modelar efetivamente a relação entre as observações, destacando-se na detecção de anomalias.\n",
        "No entanto, após uma análise aprofundada das características dos dados e das particularidades do problema em questão, a decisão foi tomada de manter o *kernel* RBF como a escolha preferencial para a modelagem do *OneClassSVM*. A razão subjacente a essa escolha reside na crença de que os dados em questão apresentam uma complexidade maior do que pode ser adequadamente capturada pelo *kernel* linear.\n",
        "Vale ressaltar que tanto o kernel linear quanto o polinomial produziram resultados bastante semelhantes, sugerindo que o modelo reduziu a relevância das variáveis com grau superior a um, indicando uma limitação na detecção de relações polinomiais claras.\n",
        "O *kernel* RBF é conhecido por sua capacidade de modelar relações não lineares complexas nos dados. Ele possui uma flexibilidade inerente que lhe permite se adaptar a padrões de alta complexidade, o que o torna uma escolha sólida quando se suspeita que as anomalias possam ter padrões não lineares menos óbvios.\n",
        "Além disso, a manutenção do *kernel* RBF também pode ser justificada pelo fato de que a detecção de anomalias muitas vezes exige a exploração de relações de alta dimensionalidade e não linearidade nos dados. A capacidade do *kernel* RBF de lidar com esses cenários desafiadores é uma vantagem considerável.\n",
        "\n",
        "\n",
        "Apesar da decisão de manter o *kernel* RBF no *OneClassSVM*, vale ressaltar que o modelo de detecção de anomalias que se destacou durante o processo de ideação e validação de modelos foi o *Isolation Forest*. Este modelo se mostrou especialmente eficaz na identificação de anomalias relacionadas aos FIDCS.\n",
        "Portanto, embora o *OneClassSVM* tenha apresentado resultados interessantes e tenha sido objeto de otimização cuidadosa, o *Isolation Forest* se destacou como a escolha preferencial devido à sua habilidade de identificar anomalias de forma mais precisa e eficiente, especialmente em cenários que envolvem grandes volumes de dados ou relações de alta dimensionalidade. Essa preferência reflete a busca por resultados mais alinhados com as expectativas e requisitos específicos do problema relacionado a provisões e inadimplências."
      ]
    },
    {
      "cell_type": "markdown",
      "metadata": {},
      "source": []
    }
  ],
  "metadata": {
    "colab": {
      "provenance": []
    },
    "kernelspec": {
      "display_name": "Python 3",
      "name": "python3"
    },
    "language_info": {
      "codemirror_mode": {
        "name": "ipython",
        "version": 3
      },
      "file_extension": ".py",
      "mimetype": "text/x-python",
      "name": "python",
      "nbconvert_exporter": "python",
      "pygments_lexer": "ipython3",
      "version": "3.11.5"
    }
  },
  "nbformat": 4,
  "nbformat_minor": 0
}
