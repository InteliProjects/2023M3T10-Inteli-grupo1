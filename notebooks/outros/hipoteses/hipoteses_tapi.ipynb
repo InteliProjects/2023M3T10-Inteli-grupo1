{
 "cells": [
  {
   "cell_type": "markdown",
   "metadata": {},
   "source": [
    "# Importando os dados"
   ]
  },
  {
   "cell_type": "code",
   "execution_count": null,
   "metadata": {},
   "outputs": [],
   "source": [
    "# Instala as dependências do projeto\n",
    "!pip install -r ../../../requirements.txt"
   ]
  },
  {
   "cell_type": "code",
   "execution_count": null,
   "metadata": {},
   "outputs": [],
   "source": [
    "import pandas as pd\n",
    "import numpy as np\n",
    "import matplotlib.pyplot as plt\n",
    "import seaborn as sns"
   ]
  },
  {
   "cell_type": "code",
   "execution_count": null,
   "metadata": {},
   "outputs": [],
   "source": [
    "dados = pd.read_csv('../../../data/dados_cvm.csv')"
   ]
  },
  {
   "cell_type": "markdown",
   "metadata": {},
   "source": [
    "### Nessa etapa atribuímos o VR, e também o target, mas sem fazer a divisão pelo patrimônio líqudo\n",
    "- Optamos por não fazer a divisão pelo patrimônio líquido para análisar as hipóteses, pois tem muitos PL zerados ou inconsistentes, afetando a veracidade dos dados."
   ]
  },
  {
   "cell_type": "code",
   "execution_count": null,
   "metadata": {},
   "outputs": [],
   "source": [
    "dados = dados.assign(vr_sem_riscos_e_beneficios = dados['Ativo_Direitos_Sem_Aquisicao_Parcelas_Inadimplentes']  + dados['Ativo_Direitos_Sem_Aquisicao_Creditos_Inadimplentes'] - dados['Carteira_Direitos_Sem_Aquisicao_Inadimplentes_1_30_Dias'] - dados['Ativo_Direitos_Sem_Aquisicao_Provisao_Reducao'])\n",
    "dados  = dados.assign(vr_com_riscos_e_beneficios = dados['Ativo_Direitos_Aquisicao_Parcelas_Inadimplentes']  + dados['Ativo_Direitos_Aquisicao_Creditos_Inadimplentes'] - dados['Carteira_Direitos_Aquisicao_Inadimplentes_1_30_Dias'] - dados['Ativo_Direitos_Aquisicao_Provisao_Reducao'])\n",
    "dados  = dados.assign(target = round((dados['vr_sem_riscos_e_beneficios'] + dados['vr_com_riscos_e_beneficios'])))"
   ]
  },
  {
   "cell_type": "markdown",
   "metadata": {},
   "source": [
    "# Fazendo análise de Inadimplência vs Provisão"
   ]
  },
  {
   "cell_type": "markdown",
   "metadata": {},
   "source": [
    "## Análise Geral\n",
    "- Primeiro vou plotar um gráfico somando todas as provisões e inadimplências dos fundos em determinado mês para analisar o comportamento comum.\n",
    "\n",
    "-  *Agg é agregate, serve para aplicar uma ou mais funções de agregação em um grupo de dados após serem agrupados por uma chave*"
   ]
  },
  {
   "cell_type": "code",
   "execution_count": null,
   "metadata": {},
   "outputs": [],
   "source": [
    "grouped_data = dados.groupby('Data_Competencia').agg({\n",
    "    'Ativo_Direitos_Aquisicao_Creditos_Inadimplentes': 'sum',\n",
    "    'Ativo_Direitos_Aquisicao_Provisao_Reducao': 'sum'\n",
    "}).reset_index()\n",
    "\n",
    "# Plotando o gráfico\n",
    "plt.figure(figsize=(10, 6))\n",
    "plt.plot(grouped_data['Data_Competencia'], grouped_data['Ativo_Direitos_Aquisicao_Creditos_Inadimplentes'], color='red', label='Inadimplências')\n",
    "plt.plot(grouped_data['Data_Competencia'], grouped_data['Ativo_Direitos_Aquisicao_Provisao_Reducao'], color='green', label='Provisões')\n",
    "plt.xlabel('Data Competência')\n",
    "plt.ylabel('Valor')\n",
    "plt.title('Inadimplências vs. Provisões por Data Competência')\n",
    "plt.legend()\n",
    "plt.grid(True)\n",
    "plt.show()\n"
   ]
  },
  {
   "cell_type": "markdown",
   "metadata": {},
   "source": [
    "## Separando os Anormais\n",
    "- Nessa próxima etapa eu faço a mesma soma de creditos inadimplentes e provisões, só que eu filtro apenas os fundos que tiveram uma soma de inadimplência maior do que de provisão"
   ]
  },
  {
   "cell_type": "code",
   "execution_count": null,
   "metadata": {},
   "outputs": [],
   "source": [
    "grouped_data = dados.groupby('ID_Participante').agg({\n",
    "    'Ativo_Direitos_Aquisicao_Creditos_Inadimplentes': 'sum',\n",
    "    'Ativo_Direitos_Aquisicao_Provisao_Reducao': 'sum'\n",
    "}).reset_index()\n",
    "\n",
    "# Filtrando os dados onde a soma das provisões é menor que a soma das inadimplências\n",
    "filtered_data = grouped_data[grouped_data['Ativo_Direitos_Aquisicao_Provisao_Reducao'] < grouped_data['Ativo_Direitos_Aquisicao_Creditos_Inadimplentes']]"
   ]
  },
  {
   "cell_type": "code",
   "execution_count": null,
   "metadata": {},
   "outputs": [],
   "source": [
    "filtered_data['ID_Participante']"
   ]
  },
  {
   "cell_type": "code",
   "execution_count": null,
   "metadata": {},
   "outputs": [],
   "source": [
    "# Lista de IDs com provisões menores que inadimplencia\n",
    "ids_to_keep = filtered_data['ID_Participante']\n",
    "\n",
    "dados_inadimplentes = dados[dados['ID_Participante'].isin(ids_to_keep)]\n",
    "\n",
    "dados_inadimplentes.shape"
   ]
  },
  {
   "cell_type": "markdown",
   "metadata": {},
   "source": [
    "### Plotando o gráfico\n",
    "- Aqui, já com os fundos anômalos filtrados eu faço o mesmo método de somar todas as inadimplências e provisões do Mês e plotar a diferença"
   ]
  },
  {
   "cell_type": "code",
   "execution_count": null,
   "metadata": {},
   "outputs": [],
   "source": [
    "grouped_data = dados_inadimplentes.groupby('Data_Competencia').agg({\n",
    "    'Ativo_Direitos_Aquisicao_Creditos_Inadimplentes': 'sum',\n",
    "    'Ativo_Direitos_Aquisicao_Provisao_Reducao': 'sum'\n",
    "}).reset_index()\n",
    "\n",
    "plt.figure(figsize=(10, 6))\n",
    "plt.plot(grouped_data['Data_Competencia'], grouped_data['Ativo_Direitos_Aquisicao_Creditos_Inadimplentes'], color='red', label='Inadimplências')\n",
    "plt.plot(grouped_data['Data_Competencia'], grouped_data['Ativo_Direitos_Aquisicao_Provisao_Reducao'], color='green', label='Provisões')\n",
    "plt.xlabel('Data Competência')\n",
    "plt.ylabel('Valor')\n",
    "plt.title('Inadimplências vs. Provisões por Data Competência - Provisões < Inadimplências')\n",
    "plt.legend()\n",
    "plt.grid(True)\n",
    "plt.show()"
   ]
  },
  {
   "cell_type": "markdown",
   "metadata": {},
   "source": [
    "- A conclusão é que muitos fundos não tem uma provisão suficiente para cobrir a inadimplência, e isso é um problema para a saúde financeira do fundo."
   ]
  },
  {
   "cell_type": "markdown",
   "metadata": {},
   "source": [
    "# Hipóteses do TAPI propostas pela CVM"
   ]
  },
  {
   "cell_type": "markdown",
   "metadata": {},
   "source": [
    "## Hipótese 1\n",
    "- FIDCs mais concentrados em poucos cedentes (campos I.a.12 e I.b.12) tendem a ter aumento de VR ao longo \n",
    "dos meses? Qual o nível de concentração de cedentes antecede um aumento do VR? \n",
    "A soma dos percentuais relativos aos cedentes, informados ou não no campo I.a.12, não necessariamente \n",
    "somam 100%, tampouco os do campo I.b.12. "
   ]
  },
  {
   "cell_type": "markdown",
   "metadata": {},
   "source": [
    "### Analisando número de cedentes x VR"
   ]
  },
  {
   "cell_type": "code",
   "execution_count": null,
   "metadata": {},
   "outputs": [],
   "source": [
    "dados_cedentes = pd.read_csv('../data/dados_cvm_cedentes.csv')\n",
    "\n",
    "dados_cedentes.drop(['Item', 'CPF_CNPJ_Cedente'], axis=1, inplace=True)\n",
    "\n",
    "dados_v1 = pd.merge(dados, dados_cedentes, on=\"SK_Documento\", how=\"inner\")"
   ]
  },
  {
   "cell_type": "code",
   "execution_count": null,
   "metadata": {},
   "outputs": [],
   "source": [
    "len(dados_cedentes)"
   ]
  },
  {
   "cell_type": "code",
   "execution_count": null,
   "metadata": {},
   "outputs": [],
   "source": [
    "dados_v1.shape"
   ]
  },
  {
   "cell_type": "code",
   "execution_count": null,
   "metadata": {},
   "outputs": [],
   "source": [
    "dados_v1['Participacao_Percentual'].isnull().sum()"
   ]
  },
  {
   "cell_type": "code",
   "execution_count": null,
   "metadata": {},
   "outputs": [],
   "source": [
    "dados_v1['Participacao_Percentual'].value_counts()"
   ]
  },
  {
   "cell_type": "code",
   "execution_count": null,
   "metadata": {},
   "outputs": [],
   "source": [
    "dados_filtrados = dados_v1[dados_v1['Participacao_Percentual'] == 100.00]"
   ]
  },
  {
   "cell_type": "code",
   "execution_count": null,
   "metadata": {},
   "outputs": [],
   "source": [
    "media_filtrados = dados_filtrados['target'].mean()\n",
    "media_total = dados['target'].mean()\n",
    "\n",
    "dados_medias = [media_total, media_filtrados]\n",
    "labels = ['Geral', 'Com apenas 1 Cedente']\n",
    "\n",
    "plt.bar(labels, dados_medias, color='red')  \n",
    "plt.ylabel('Média do target')\n",
    "plt.title('Comparação das Médias do target')\n",
    "plt.show()"
   ]
  },
  {
   "cell_type": "markdown",
   "metadata": {},
   "source": [
    "#### Hipótese comprovada\n",
    "- Apesar de terem 22798 dados zerados o que dificulta a análise, é possível já extrair informações relevantes dos fundos em que só tem 1 cedente com 100% de participação.\n",
    "- Analisando os fundos com apenas 1 cedente é bem perceptível que o target é muito superior."
   ]
  },
  {
   "cell_type": "markdown",
   "metadata": {},
   "source": [
    "## Hipótese 2\n",
    "- Fundos com recompras de créditos (3 campos sob o item VII.d) são mais propensos a apresentarem aumento \n",
    "futuro de VR? Qual o nível de recompras antecede um aumento do VR? "
   ]
  },
  {
   "cell_type": "code",
   "execution_count": null,
   "metadata": {},
   "outputs": [],
   "source": [
    "dados[['Negocios_Recompras_Quantidade', 'Negocios_Recompras_Valor', 'Negocios_Recompras_Valor_Contabil']].describe()\n"
   ]
  },
  {
   "cell_type": "code",
   "execution_count": null,
   "metadata": {},
   "outputs": [],
   "source": [
    "colunas_interesse = ['Negocios_Recompras_Quantidade', 'Negocios_Recompras_Valor', 'Negocios_Recompras_Valor_Contabil', 'target']\n",
    "dados_selecionados = dados[colunas_interesse]\n",
    "\n",
    "matriz_correlacao = dados_selecionados.corr()\n",
    "\n",
    "plt.figure(figsize=(5, 4))\n",
    "sns.heatmap(matriz_correlacao, annot=True, cmap='coolwarm', center=0)\n",
    "plt.title('Fundos Gerais - Matriz de Correlação')\n",
    "plt.show()"
   ]
  },
  {
   "cell_type": "markdown",
   "metadata": {},
   "source": [
    "- Plotando os dados separados como inadimplentes\n",
    "    - Esses dados são aqueles filtrados antes que tinham inadimplências maiores que provisões"
   ]
  },
  {
   "cell_type": "code",
   "execution_count": null,
   "metadata": {},
   "outputs": [],
   "source": [
    "dados_inadimplentes[['Negocios_Recompras_Quantidade', 'Negocios_Recompras_Valor', 'Negocios_Recompras_Valor_Contabil']].describe()\n"
   ]
  },
  {
   "cell_type": "code",
   "execution_count": null,
   "metadata": {},
   "outputs": [],
   "source": [
    "colunas_interesse = ['Negocios_Recompras_Quantidade', 'Negocios_Recompras_Valor', 'Negocios_Recompras_Valor_Contabil', 'target']\n",
    "dados_selecionados = dados_inadimplentes[colunas_interesse]\n",
    "\n",
    "matriz_correlacao = dados_selecionados.corr()\n",
    "\n",
    "plt.figure(figsize=(5, 4))\n",
    "sns.heatmap(matriz_correlacao, annot=True, cmap='coolwarm', center=0)\n",
    "plt.title('Fundos com mais Inadimplências')\n",
    "plt.show()"
   ]
  },
  {
   "cell_type": "markdown",
   "metadata": {},
   "source": [
    "#### Hipótese descomprovada a princípio pela nossa análise\n",
    "- O target está correlacionado negativamente com os campos sugeridos na hipótese para os fundos que tem menos provisões que inadimplências e apresenta uma correlação muito baixa nos fundos gerais."
   ]
  },
  {
   "cell_type": "markdown",
   "metadata": {},
   "source": [
    "## Hipótese 3\n",
    "- Fundos com substituições de créditos (3 campos sob o item VII.c) são mais propensos a apresentar aumento \n",
    "futuro de VR? Qual o nível de substituições antecede um aumento do VR?"
   ]
  },
  {
   "cell_type": "code",
   "execution_count": null,
   "metadata": {},
   "outputs": [],
   "source": [
    "dados[['Negocios_Substituicoes_Quantidade', 'Negocios_Substituicoes_Valor', 'Negocios_Substituicoes_Valor_Contabil']].describe()\n"
   ]
  },
  {
   "cell_type": "code",
   "execution_count": null,
   "metadata": {},
   "outputs": [],
   "source": [
    "colunas_interesse = ['Negocios_Substituicoes_Quantidade', 'Negocios_Substituicoes_Valor', 'Negocios_Substituicoes_Valor_Contabil', 'target']\n",
    "dados_selecionados = dados[colunas_interesse]\n",
    "\n",
    "matriz_correlacao = dados_selecionados.corr()\n",
    "\n",
    "plt.figure(figsize=(5, 4))\n",
    "sns.heatmap(matriz_correlacao, annot=True, cmap='coolwarm', center=0)\n",
    "plt.title('Fundos Gerais - Matriz de Correlação')\n",
    "plt.show()"
   ]
  },
  {
   "cell_type": "markdown",
   "metadata": {},
   "source": [
    "- Fazendo a análise com os dados separados como inadimplentes"
   ]
  },
  {
   "cell_type": "code",
   "execution_count": null,
   "metadata": {},
   "outputs": [],
   "source": [
    "dados_inadimplentes[['Negocios_Substituicoes_Quantidade', 'Negocios_Substituicoes_Valor', 'Negocios_Substituicoes_Valor_Contabil']].describe()"
   ]
  },
  {
   "cell_type": "code",
   "execution_count": null,
   "metadata": {},
   "outputs": [],
   "source": [
    "colunas_interesse = ['Negocios_Substituicoes_Quantidade', 'Negocios_Substituicoes_Valor', 'Negocios_Substituicoes_Valor_Contabil', 'target']\n",
    "dados_selecionados = dados_inadimplentes[colunas_interesse]\n",
    "\n",
    "matriz_correlacao = dados_selecionados.corr()\n",
    "\n",
    "plt.figure(figsize=(5, 4))\n",
    "sns.heatmap(matriz_correlacao, annot=True, cmap='coolwarm', center=0)\n",
    "plt.title('Fundos com mais Inadimplências')\n",
    "plt.show()"
   ]
  },
  {
   "cell_type": "markdown",
   "metadata": {},
   "source": [
    "#### Hipótese possívelmente comprovada a princípio pela nossa análise\n",
    "- O target está correlacionado positivamente com os campos de substituição nos fundos inadimplentes, apesar de serem valores baixos, com um possível refinamento junto a modelagem será possível chegar a uma resposta mais precisa, devido a complexidade dos dados.\n",
    "- Contudo ele está correlacionado negativamente nos fundos generalizados, o que ainda pode causar uma imprecisão na análise"
   ]
  },
  {
   "cell_type": "markdown",
   "metadata": {},
   "source": [
    "## Hipótese 4\n",
    "- FIDCs com renegociações de créditos são mais propensos a apresentar aumento futuro de VR? Qual o nível \n",
    "de renegociações antecede um aumento do VR? \n",
    "As renegociações são identificadas por um aumento de créditos a vencer (campos I.2a.1 e I.2b.1) e \n",
    "diminuição dos valores em atraso (campos I.2a.2.1 e I.2b.2.1 ou V.b e VI.b) no mesmo mês, sem a ocorrência \n",
    "de recompra nem substituição de créditos. "
   ]
  },
  {
   "cell_type": "code",
   "execution_count": null,
   "metadata": {},
   "outputs": [],
   "source": [
    "dados[\"Data_Competencia\"] = pd.to_datetime(dados[\"Data_Competencia\"], format=\"%Y-%m-%d\")"
   ]
  },
  {
   "cell_type": "markdown",
   "metadata": {},
   "source": [
    "Quando passa um mês na 'Data-Competencia' que já está no formato %Y-%m-%d\n",
    "\n",
    "- Aumenta 'Ativo_Direitos_Aquisicao_Creditos_Vencer_Adimplentes'\n",
    "- Diminui 'Carteira_Direitos_Aquisicao_Inadimplentes' + 'Carteira_Direitos_Sem_Aquisicao_Prazo'"
   ]
  },
  {
   "cell_type": "code",
   "execution_count": null,
   "metadata": {},
   "outputs": [],
   "source": [
    "def filter_and_compare(df):\n",
    "    df.sort_values(['ID_Participante', 'Data_Competencia'], inplace=True)\n",
    "    \n",
    "    df['Diff_Ativo'] = df.groupby('ID_Participante')['Ativo_Direitos_Aquisicao_Creditos_Vencer_Adimplentes'].diff()\n",
    "    df['Diff_Carteira'] = df.groupby('ID_Participante')['Carteira_Direitos_Aquisicao_Inadimplentes'].shift(1) + df.groupby('ID_Participante')['Carteira_Direitos_Sem_Aquisicao_Prazo'].shift(1)\n",
    "    df['Diff_Carteira'] = df.groupby('ID_Participante')['Diff_Carteira'].diff()\n",
    "\n",
    "    filtered_df = df[(df['Diff_Ativo'] > 0) & (df['Diff_Carteira'] < 0)]\n",
    "    \n",
    "    return filtered_df\n",
    "\n",
    "\n",
    "filtered_result = filter_and_compare(dados)"
   ]
  },
  {
   "cell_type": "markdown",
   "metadata": {},
   "source": [
    "- Filtrando os dados em que não ocorre recompra / substituição de crédito\n",
    "    - 'Negocios_Substituicoes_Quantidade' = 0\n",
    "    - Negocios_Recompras_Quantidade = 0\n"
   ]
  },
  {
   "cell_type": "code",
   "execution_count": null,
   "metadata": {},
   "outputs": [],
   "source": [
    "dados_sem_substituicao_recompra = filtered_result[(filtered_result['Negocios_Substituicoes_Quantidade'] == 0) & (filtered_result['Negocios_Recompras_Quantidade'] == 0)]"
   ]
  },
  {
   "cell_type": "code",
   "execution_count": null,
   "metadata": {},
   "outputs": [],
   "source": [
    "colunas_interesse = ['Diff_Ativo', 'Diff_Carteira', 'target']\n",
    "dados_selecionados = dados_sem_substituicao_recompra[colunas_interesse]\n",
    "\n",
    "matriz_correlacao = dados_selecionados.corr()\n",
    "\n",
    "plt.figure(figsize=(5, 4))\n",
    "sns.heatmap(matriz_correlacao, annot=True, cmap='coolwarm', center=0)\n",
    "plt.title('Matriz de Correlação')\n",
    "plt.show()"
   ]
  },
  {
   "cell_type": "markdown",
   "metadata": {},
   "source": [
    "#### Hipótese possívelmente comprovada a princípio pela nossa análise\n",
    "- O target está correlacionado sim com os campos dessa hipótese, mas não é uma correlação forte o suficiente para comprovar ela definitivamente. Após uma análise mais precisa e a modelagem será possível confirmar o impacto das negociações ao longo do tempo, talvez apresentando uma correlação maior, mas já nesse estado inicial é possível ver que a hipótese é possívelmente verdadeira."
   ]
  },
  {
   "cell_type": "markdown",
   "metadata": {},
   "source": [
    "## Hipótese 5\n",
    "- Algum(ns) ramo(s) de atividade econômica do FIDC é(são) mais propenso(s) a registrar maior aumento no \n",
    "VR? \n",
    "A Tabela II é útil para essa análise, porém não traz a divisão de DCs entre com e sem riscos e benefícios."
   ]
  },
  {
   "cell_type": "code",
   "execution_count": null,
   "metadata": {},
   "outputs": [],
   "source": [
    "colunas_interesse = ['Carteira_Industrial', 'Carteira_Mercado_Imobiliario','Carteira_Comercial_Total', 'Carteira_Arrendamento_Mercantil', 'Carteira_Servicos_Total', 'Carteira_Entretenimento', 'Carteira_Agronegocio', 'Carteira_Financeiro', 'Carteira_Credito Pessoal', 'Carteira_Credito_Pessoal_Consignado', 'Carteira_Credito_Corporativo', 'Carteira_Middle_Market', 'Carteira_Veiculos', 'Carteira_Imobiliaria_Empresarial', 'Carteira_Imobiliaria_Residencial', 'Carteira_Outros_Financeiro', 'Carteira_Cartao_Credito', 'Carteira_Factoring', 'Carteira_Factoring_Pessoal', 'Carteira_Factoring_Corporativo', 'Carteira_Setor_Publico', 'Carteira_Precatorios', 'Carteira_Creditos_Tributarios', 'Carteira_Royalties', 'Carteira_Outros_Setor_Publico', 'Carteira_Acoes_Judiciais', 'Carteira_Propriedade_Intelectual',  'target']\n",
    "dados_selecionados = dados[colunas_interesse]\n",
    "\n",
    "correlacoes = dados_selecionados.corr()['target']\n",
    "\n",
    "\n",
    "correlacoes_df = pd.DataFrame(correlacoes)\n",
    "correlacoes_df = correlacoes_df.sort_values(by='target', ascending=True)\n",
    "correlacoes_df = correlacoes_df.drop('target')\n",
    "correlacoes_df.columns = ['Correlação com Target']\n",
    "\n",
    "plt.figure(figsize=(10, 6))\n",
    "sns.barplot(x=correlacoes_df.index, y='Correlação com Target', data=correlacoes_df)\n",
    "plt.title('Correlação do Target com Outras Colunas')\n",
    "plt.xticks(rotation=90)\n",
    "plt.show()"
   ]
  },
  {
   "cell_type": "markdown",
   "metadata": {},
   "source": [
    "- Vendo com os dados inadimplentes"
   ]
  },
  {
   "cell_type": "code",
   "execution_count": null,
   "metadata": {},
   "outputs": [],
   "source": [
    "dados_selecionados = dados_inadimplentes[colunas_interesse]\n",
    "\n",
    "correlacoes = dados_selecionados.corr()['target']\n",
    "\n",
    "\n",
    "correlacoes_df = pd.DataFrame(correlacoes)\n",
    "correlacoes_df = correlacoes_df.sort_values(by='target', ascending=True)\n",
    "correlacoes_df = correlacoes_df.drop('target')\n",
    "correlacoes_df.columns = ['Correlação com Target']\n",
    "\n",
    "plt.figure(figsize=(10, 6))\n",
    "sns.barplot(x=correlacoes_df.index, y='Correlação com Target', data=correlacoes_df)\n",
    "plt.title('Correlação do Target com Outras Colunas')\n",
    "plt.xticks(rotation=90)\n",
    "plt.show()"
   ]
  },
  {
   "cell_type": "markdown",
   "metadata": {},
   "source": [
    "- Fazendo Teste com target > 1 "
   ]
  },
  {
   "cell_type": "code",
   "execution_count": null,
   "metadata": {},
   "outputs": [],
   "source": [
    "dados_t_positivo = dados[dados['target'] > 0]\n",
    "dados_selecionados = dados_t_positivo[colunas_interesse]\n",
    "\n",
    "correlacoes = dados_selecionados.corr()['target']\n",
    "\n",
    "\n",
    "correlacoes_df = pd.DataFrame(correlacoes)\n",
    "correlacoes_df = correlacoes_df.sort_values(by='target', ascending=True)\n",
    "correlacoes_df = correlacoes_df.drop('target')\n",
    "correlacoes_df.columns = ['Correlação com Target']\n",
    "\n",
    "plt.figure(figsize=(10, 6))\n",
    "sns.barplot(x=correlacoes_df.index, y='Correlação com Target', data=correlacoes_df)\n",
    "plt.title('Correlação do Target com Outras Colunas')\n",
    "plt.xticks(rotation=90)\n",
    "plt.show()"
   ]
  },
  {
   "cell_type": "markdown",
   "metadata": {},
   "source": [
    "#### Hipótese comprovada\n",
    "- Essa hipótese foi comprovada, pois dependendo da carteira de crédito do fundo, ele tem uma maior chance de ter um aumento no target. Selecionando os fundos com target acima de um é perceptível que a carteira financeira e o crédito pessoal consignado tem grande correlação com o target. Portanto, o tipo de carteira predominante em um fundo pode ser um fator determinante para o aumento do target."
   ]
  },
  {
   "cell_type": "markdown",
   "metadata": {},
   "source": [
    "## Hipótese 6\n",
    "- De forma geral, DCs com e sem riscos e benefícios comportam-se forma diferente ou não, quanto à evolução \n",
    "da inadimplência dos seus créditos e do VR? "
   ]
  },
  {
   "cell_type": "code",
   "execution_count": null,
   "metadata": {},
   "outputs": [],
   "source": [
    "colunas_interesse = ['Ativo_Direitos_Aquisicao_Creditos_Inadimplentes', 'vr_com_riscos_e_beneficios', 'vr_sem_riscos_e_beneficios', 'target']\n",
    "dados_selecionados = dados[colunas_interesse]\n",
    "\n",
    "matriz_correlacao = dados_selecionados.corr()\n",
    "\n",
    "plt.figure(figsize=(5, 4))\n",
    "sns.heatmap(matriz_correlacao, annot=True, cmap='coolwarm', center=0)\n",
    "plt.title('Matriz de Correlação')\n",
    "plt.show()"
   ]
  },
  {
   "cell_type": "markdown",
   "metadata": {},
   "source": [
    "#### Essa hipótese se comprova\n",
    "- Tanto por essa análise quanto a nossa exploratória dos dados, é perceptível que o vr com riscos e benefícios tem uma maior correlação com o target, ou seja, ele influencia mais no target do que o vr sem riscos e benefícios."
   ]
  }
 ],
 "metadata": {
  "kernelspec": {
   "display_name": "Python 3",
   "language": "python",
   "name": "python3"
  },
  "language_info": {
   "codemirror_mode": {
    "name": "ipython",
    "version": 3
   },
   "file_extension": ".py",
   "mimetype": "text/x-python",
   "name": "python",
   "nbconvert_exporter": "python",
   "pygments_lexer": "ipython3",
   "version": "3.11.5"
  },
  "orig_nbformat": 4
 },
 "nbformat": 4,
 "nbformat_minor": 2
}
