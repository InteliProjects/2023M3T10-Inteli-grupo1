{
 "cells": [
  {
   "cell_type": "code",
   "execution_count": null,
   "metadata": {},
   "outputs": [],
   "source": [
    "# Instala as dependências\n",
    "!pip install -r ../../../requirements.txt"
   ]
  },
  {
   "cell_type": "code",
   "execution_count": null,
   "metadata": {},
   "outputs": [],
   "source": [
    "# Importações para análise e tratamento dos dados\n",
    "import pandas as pd\n",
    "import numpy as np\n",
    "import seaborn as sb\n",
    "import matplotlib.pyplot as plt\n",
    "from sklearn.preprocessing import MinMaxScaler"
   ]
  },
  {
   "cell_type": "code",
   "execution_count": null,
   "metadata": {},
   "outputs": [],
   "source": [
    "# Forçando o pandas a mostrar todas as colunas\n",
    "pd.set_option('display.max_columns', 321)\n",
    "pd.set_option('display.max_rows', None)"
   ]
  },
  {
   "cell_type": "code",
   "execution_count": null,
   "metadata": {},
   "outputs": [],
   "source": [
    "# Lendo o arquivo principal e iniciando a análise\n",
    "dados_principal = pd.read_csv(\"../../../data/dados_cvm.csv\")\n",
    "dados_principal.describe()"
   ]
  },
  {
   "cell_type": "code",
   "execution_count": null,
   "metadata": {},
   "outputs": [],
   "source": [
    "# Analisando as colunas 12 e 14 que geraram um aviso\n",
    "colunas_sem_null = dados_principal[['Tipo_Prazo_Conversao_Cotas', 'Tipo_Prazo_Pagamento_Resgate']].dropna()\n",
    "colunas_sem_null.head(20)"
   ]
  },
  {
   "cell_type": "markdown",
   "metadata": {},
   "source": [
    "Conclusão: 12 e 14 não são úteis para análise, possuem muitos registros nulos e só dizem respeito a tipos de prazos que não afetam o risco do fundo de perda financeira"
   ]
  },
  {
   "cell_type": "code",
   "execution_count": null,
   "metadata": {},
   "outputs": [],
   "source": [
    "# Informações sobre cada coluna\n",
    "dados_principal.info(max_cols=321)"
   ]
  },
  {
   "cell_type": "markdown",
   "metadata": {},
   "source": [
    "Como há muitos registros nulos, explorarei esses dados primeiro para já eliminar caso possível"
   ]
  },
  {
   "cell_type": "code",
   "execution_count": null,
   "metadata": {},
   "outputs": [],
   "source": [
    "# Visualizando quais colunas contêm dados nulos\n",
    "dados_nulos = dados_principal.isnull().sum()\n",
    "dados_nulos[dados_nulos > 0]"
   ]
  },
  {
   "cell_type": "code",
   "execution_count": null,
   "metadata": {},
   "outputs": [],
   "source": [
    "# Visualizando as colunas com dados nulos por porcentagem\n",
    "porcentagem_nulos = (dados_principal.isnull().sum() / len(dados_principal)) * 100\n",
    "porcentagem_nulos[porcentagem_nulos >= 45]"
   ]
  },
  {
   "cell_type": "markdown",
   "metadata": {},
   "source": [
    "Quarenta e cinco porcendo de dados nulos já é um valor ruim de se trabalhar. Por isso e pela análise subjetiva de utilidade das colunas listadas acima, eliminarei todas, com exceção das duas últimas (Garantias_Valor_Total e Garantias_Percentual)."
   ]
  },
  {
   "cell_type": "code",
   "execution_count": null,
   "metadata": {},
   "outputs": [],
   "source": [
    "# Dropando as colunas\n",
    "dados_atualizados = dados_principal.drop(porcentagem_nulos[porcentagem_nulos > 49].index, axis=1)\n",
    "dados_atualizados.shape"
   ]
  },
  {
   "cell_type": "code",
   "execution_count": null,
   "metadata": {},
   "outputs": [],
   "source": [
    "# Visualizando novamente os dados nulos, excluindo as colunas dropadas, a fim de visualizar quais podem ser importantes\n",
    "dados_nulos_atualizados = dados_nulos.drop(porcentagem_nulos[porcentagem_nulos > 49].index)\n",
    "dados_nulos_atualizados = dados_nulos_atualizados.drop(dados_nulos_atualizados[dados_nulos_atualizados == 0].index)\n",
    "dados_nulos_atualizados"
   ]
  },
  {
   "cell_type": "markdown",
   "metadata": {},
   "source": [
    "Conclusões: todas, com exceção das colunas \"CNPJ_Administrador\", \"Nome_Administrador\" e \"Forma_Condominio\", representam valores numéricos e podem ter seus registros nulos preenchidos por zeros. Antes desse procedimento, verificarei os registros nulos de \"Forma_Condominio\", pois não deveriam existir."
   ]
  },
  {
   "cell_type": "code",
   "execution_count": null,
   "metadata": {},
   "outputs": [],
   "source": [
    "# Visualizando os fundos inconsistentes\n",
    "dados_atualizados[dados_principal['Forma_Condominio'].isnull() == True]"
   ]
  },
  {
   "cell_type": "markdown",
   "metadata": {},
   "source": [
    "Aparentemente, esses fundos são não padronizados ou possuem dados inconsistentes. Portanto, excluirei-os."
   ]
  },
  {
   "cell_type": "code",
   "execution_count": null,
   "metadata": {},
   "outputs": [],
   "source": [
    "# Retirando os fundos inconsistentes\n",
    "dados_atualizados = dados_atualizados[dados_atualizados['ID_Participante'] != 87248]\n",
    "dados_atualizados = dados_atualizados[dados_atualizados['ID_Participante'] != 128015]\n",
    "dados_atualizados.shape"
   ]
  },
  {
   "cell_type": "code",
   "execution_count": null,
   "metadata": {},
   "outputs": [],
   "source": [
    "# Preenchendo registros nulos com zeros\n",
    "dados_atualizados.drop(['CNPJ', 'CNPJ_Administrador', 'Nome_Administrador'], inplace=True, axis=1)\n",
    "dados_atualizados.fillna(0, inplace=True)\n",
    "dados_atualizados.shape"
   ]
  },
  {
   "cell_type": "markdown",
   "metadata": {},
   "source": [
    "Livrei-me dos dados do Administrador e do CNPJ do fundo pois não são relevantes e alterei os registros. Agora, vou verificar abaixo se eles foram alterados."
   ]
  },
  {
   "cell_type": "code",
   "execution_count": null,
   "metadata": {},
   "outputs": [],
   "source": [
    "# Verificando alteração dos registros nulos\n",
    "dados_atualizados.isnull().sum()"
   ]
  },
  {
   "cell_type": "markdown",
   "metadata": {},
   "source": [
    "Removerei também as duplicatas presentes no arquivo, os fundos exclusivos ou com cotistas vinculados por interesse único e indissociável e as colunas restantes que não possuem funcionalidade para a análise"
   ]
  },
  {
   "cell_type": "code",
   "execution_count": null,
   "metadata": {},
   "outputs": [],
   "source": [
    "# Removendo colunas não-funcionais\n",
    "indexes = ['Data_Entrega']\n",
    "for i in range(199, 287):\n",
    "    indexes.append(dados_atualizados.columns[i])\n",
    "\n",
    "for i in range(163, 174):\n",
    "    indexes.append(dados_atualizados.columns[i])\n",
    "\n",
    "for i in range(130, 141):\n",
    "    indexes.append(dados_atualizados.columns[i])\n",
    "\n",
    "dados_atualizados.drop_duplicates(inplace=True)\n",
    "dados_atualizados.drop(indexes, inplace=True, axis=1)\n",
    "dados_atualizados = dados_atualizados.query(\"Fundo_Exclusivo == 'Não'\")\n",
    "dados_atualizados = dados_atualizados.query('Patrimonio_Liquido > 1')\n",
    "dados_atualizados.shape"
   ]
  },
  {
   "cell_type": "markdown",
   "metadata": {},
   "source": [
    "Com esse tratamento de dados nulos, partirei para a junção desse com os outros arquivos CSV fornecidos."
   ]
  },
  {
   "cell_type": "code",
   "execution_count": null,
   "metadata": {},
   "outputs": [],
   "source": [
    "# Leitura do primeiro arquivo\n",
    "dados_classes = pd.read_csv(\"../data/dados_cvm_classes.csv\")\n",
    "dados_classes.describe()"
   ]
  },
  {
   "cell_type": "code",
   "execution_count": null,
   "metadata": {},
   "outputs": [],
   "source": [
    "# checando a estrutura\n",
    "dados_classes.shape"
   ]
  },
  {
   "cell_type": "markdown",
   "metadata": {},
   "source": [
    "Há, nesse segundo documento, aproximadamente o triplo do número de linhas do primeiro analisado. Isso ocorre porque existem várias linhas que dizem respeito ao mesmo \"SK_Documento\", registrando apenas as diferentes cotas, como pode ser avaliado na célula a seguir:"
   ]
  },
  {
   "cell_type": "code",
   "execution_count": null,
   "metadata": {},
   "outputs": [],
   "source": [
    "# checando registros únicos\n",
    "dados_classes['SK_Documento'].unique().shape"
   ]
  },
  {
   "cell_type": "markdown",
   "metadata": {},
   "source": [
    "Portanto, para realizar o merge desse documento com o primeiro, os dados precisam ser tratados. Começarei realizando o drop de colunas que não são úteis para a análise."
   ]
  },
  {
   "cell_type": "code",
   "execution_count": null,
   "metadata": {},
   "outputs": [],
   "source": [
    "# drop das colunas\n",
    "dados_classes.drop(\n",
    "    [\n",
    "        'Valor_Total_Captado',\n",
    "        'Quantidade_Cotas_Emitidas',\n",
    "        'Valor_Total_Resgates',\n",
    "        'Quantidade_Cotas_Resgatadas',\n",
    "        'Valor_A_Pagar',\n",
    "        'Quantidade_Cotas_A_Resgatar',\n",
    "        'Valor_Amortizado_Cota', \n",
    "        'Valor_Total_Amortizacao'\n",
    "    ],\n",
    "    inplace=True,\n",
    "    axis=1\n",
    ")\n",
    "dados_classes.info()"
   ]
  },
  {
   "cell_type": "code",
   "execution_count": null,
   "metadata": {},
   "outputs": [],
   "source": [
    "# separando subordinadas e seniores\n",
    "subordinadas = dados_classes[[classe.startswith(('Subordinada', 'Classe Subordinada')) for classe in dados_classes['Classe_Serie']]]\n",
    "seniores = dados_classes[[classe.startswith('Sênior') for classe in dados_classes['Classe_Serie']]]"
   ]
  },
  {
   "cell_type": "code",
   "execution_count": null,
   "metadata": {},
   "outputs": [],
   "source": [
    "# drop nas colunas que não têm mais funcionalidade\n",
    "subordinadas.drop('Classe_Serie', inplace=True, axis=1)\n",
    "seniores.drop('Classe_Serie', inplace=True, axis=1)"
   ]
  },
  {
   "cell_type": "code",
   "execution_count": null,
   "metadata": {},
   "outputs": [],
   "source": [
    "# agrupando por \"SK_Documento\"\n",
    "subordinadas_agrupadas = subordinadas.groupby('SK_Documento').sum()\n",
    "seniores_agrupadas = seniores.groupby('SK_Documento').sum()"
   ]
  },
  {
   "cell_type": "markdown",
   "metadata": {},
   "source": [
    "Como todas as colunas tiveram seus valores somados, é necessário substituí-las para encontrar seus valores individuais por cotas."
   ]
  },
  {
   "cell_type": "code",
   "execution_count": null,
   "metadata": {},
   "outputs": [],
   "source": [
    "# drop de colunas que estão com valores somados erroneamente\n",
    "subordinadas_agrupadas.drop(\n",
    "    [\n",
    "        'Valor_Cota',\n",
    "        'Rentabilidade',\n",
    "        'Desempenho_Esperado',\n",
    "        'Desempenho_Realizado'\n",
    "    ],\n",
    "    inplace=True,\n",
    "    axis=1\n",
    ")\n",
    "seniores_agrupadas.drop(\n",
    "    [\n",
    "        'Valor_Cota',\n",
    "        'Rentabilidade',\n",
    "        'Desempenho_Esperado',\n",
    "        'Desempenho_Realizado'\n",
    "    ],\n",
    "    inplace=True,\n",
    "    axis=1\n",
    ")"
   ]
  },
  {
   "cell_type": "code",
   "execution_count": null,
   "metadata": {},
   "outputs": [],
   "source": [
    "# médias dos valores somados para substituição\n",
    "media_valor_cota_subordinada = subordinadas.query('Quantidade_Cotas != 0').groupby('SK_Documento')['Valor_Cota'].mean().to_frame().reset_index()\n",
    "media_rentabilidade_subordinada = subordinadas.query('Rentabilidade != 0').groupby('SK_Documento')['Rentabilidade'].mean().to_frame().reset_index()\n",
    "media_desempenho_esperado_subordinada = subordinadas.query('Desempenho_Esperado != 0').groupby('SK_Documento')['Desempenho_Esperado'].mean().to_frame().reset_index()\n",
    "media_desempenho_realizado_subordinada = subordinadas.query('Desempenho_Realizado != 0').groupby('SK_Documento')['Desempenho_Realizado'].mean().to_frame().reset_index()\n",
    "\n",
    "media_valor_cota_seniores = seniores.query('Quantidade_Cotas != 0').groupby('SK_Documento')['Valor_Cota'].mean().to_frame().reset_index()\n",
    "media_rentabilidade_seniores = seniores.query('Rentabilidade != 0').groupby('SK_Documento')['Rentabilidade'].mean().to_frame().reset_index()\n",
    "media_desempenho_esperado_seniores = seniores.query('Desempenho_Esperado != 0').groupby('SK_Documento')['Desempenho_Esperado'].mean().to_frame().reset_index()\n",
    "media_desempenho_realizado_seniores = seniores.query('Desempenho_Realizado != 0').groupby('SK_Documento')['Desempenho_Realizado'].mean().to_frame().reset_index()"
   ]
  },
  {
   "cell_type": "code",
   "execution_count": null,
   "metadata": {},
   "outputs": [],
   "source": [
    "# juntando os campos de médias\n",
    "medias_subordinadas = pd.merge(media_valor_cota_subordinada, media_rentabilidade_subordinada, how='inner', on='SK_Documento')\n",
    "medias_subordinadas = pd.merge(medias_subordinadas, media_desempenho_esperado_subordinada, how='inner', on='SK_Documento')\n",
    "medias_subordinadas = pd.merge(medias_subordinadas, media_desempenho_realizado_subordinada, how='inner', on='SK_Documento')\n",
    "\n",
    "medias_seniores = pd.merge(media_valor_cota_seniores, media_rentabilidade_seniores, how='inner', on='SK_Documento')\n",
    "medias_seniores = pd.merge(medias_seniores, media_desempenho_esperado_seniores, how='inner', on='SK_Documento')\n",
    "medias_seniores = pd.merge(medias_seniores, media_desempenho_realizado_seniores, how='inner', on='SK_Documento')"
   ]
  },
  {
   "cell_type": "code",
   "execution_count": null,
   "metadata": {},
   "outputs": [],
   "source": [
    "# merges com dados finais\n",
    "subordinadas_agrupadas = pd.merge(subordinadas_agrupadas, medias_subordinadas, how='outer', on='SK_Documento')\n",
    "seniores_agrupadas = pd.merge(seniores_agrupadas, medias_seniores, how='outer', on='SK_Documento')"
   ]
  },
  {
   "cell_type": "markdown",
   "metadata": {},
   "source": [
    "Agora, com a tabela final tratada, renomearei os campos para o merge com o primeiro documento (\"IMs.csv\")"
   ]
  },
  {
   "cell_type": "code",
   "execution_count": null,
   "metadata": {},
   "outputs": [],
   "source": [
    "# renomeando as colunas\n",
    "subordinadas_agrupadas = subordinadas_agrupadas.add_suffix('_Subordinada')\n",
    "seniores_agrupadas = seniores_agrupadas.add_suffix('_Senior')\n",
    "\n",
    "subordinadas_agrupadas = subordinadas_agrupadas.rename(columns={'SK_Documento_Subordinada':'SK_Documento'})\n",
    "seniores_agrupadas = seniores_agrupadas.rename(columns={'SK_Documento_Senior':'SK_Documento'})\n",
    "seniores_agrupadas.head()"
   ]
  },
  {
   "cell_type": "code",
   "execution_count": null,
   "metadata": {},
   "outputs": [],
   "source": [
    "#merge entre as duas tabelas de agrupamento\n",
    "dados_classes_tratados = pd.merge(subordinadas_agrupadas, seniores_agrupadas, how='outer', on='SK_Documento')\n",
    "dados_classes_tratados.shape"
   ]
  },
  {
   "cell_type": "code",
   "execution_count": null,
   "metadata": {},
   "outputs": [],
   "source": [
    "#merge com o primeiro documento\n",
    "dados_atualizados = pd.merge(dados_atualizados, dados_classes_tratados, how='inner', on='SK_Documento')\n",
    "dados_atualizados.info(max_cols=188)"
   ]
  },
  {
   "cell_type": "code",
   "execution_count": null,
   "metadata": {},
   "outputs": [],
   "source": [
    "#visualizando resultado\n",
    "dados_atualizados.describe()"
   ]
  },
  {
   "cell_type": "markdown",
   "metadata": {},
   "source": [
    "Abaixo, testo a hipótese de construção de uma nova fórmula de valor de risco, diferente da que a CVM nos passou."
   ]
  },
  {
   "cell_type": "code",
   "execution_count": null,
   "metadata": {},
   "outputs": [],
   "source": [
    "#ordenando por id e data para conseguir iterar e calcular valores não pagos a prazo\n",
    "dados_atualizados[\"Data_Competencia\"] = pd.to_datetime(dados_atualizados[\"Data_Competencia\"], format=\"%Y-%m-%d\")\n",
    "dados_atualizados.sort_values(['ID_Participante', 'Data_Competencia'], inplace=True)\n",
    "dados_atualizados.head(40)"
   ]
  },
  {
   "cell_type": "code",
   "execution_count": null,
   "metadata": {},
   "outputs": [],
   "source": [
    "#criando colunas de valores não pagos a prazo\n",
    "dados_atualizados = dados_atualizados.assign(valor_nao_pago_com_beneficios = 0)\n",
    "dados_atualizados = dados_atualizados.assign(valor_nao_pago_sem_beneficios = 0)\n",
    "dados_atualizados.reset_index(inplace=True)\n",
    "dados_atualizados.head(20)"
   ]
  },
  {
   "cell_type": "code",
   "execution_count": null,
   "metadata": {},
   "outputs": [],
   "source": [
    "#atribuindo valores às colunas\n",
    "for i in range(1, len(dados_atualizados)):\n",
    "    atual = dados_atualizados.iloc[i]\n",
    "    anterior = dados_atualizados.iloc[i - 1]\n",
    "    if atual.ID_Participante == anterior.ID_Participante and anterior['Carteira_Direitos_Aquisicao_Inadimplentes'] != 0:\n",
    "        dados_atualizados.at[i,'valor_nao_pago_com_beneficios'] = atual['Carteira_Direitos_Aquisicao_Inadimplentes'] - anterior['Carteira_Direitos_Aquisicao_Inadimplentes']\n",
    "        dados_atualizados.at[i,'valor_nao_pago_sem_beneficios'] = atual['Carteira_Direitos_Sem_Aquisicao_Inadimplentes'] - anterior['Carteira_Direitos_Sem_Aquisicao_Inadimplentes']\n",
    "    else:\n",
    "        continue\n",
    "\n",
    "dados_atualizados[['ID_Participante', 'Data_Competencia', 'Carteira_Direitos_Aquisicao_Inadimplentes', 'valor_nao_pago_com_beneficios', 'Carteira_Direitos_Sem_Aquisicao_Inadimplentes', 'valor_nao_pago_sem_beneficios']].head(1000)"
   ]
  },
  {
   "cell_type": "code",
   "execution_count": null,
   "metadata": {},
   "outputs": [],
   "source": [
    "#criando o novo valor de risco\n",
    "dados_atualizados = dados_atualizados.assign(vr_sem_riscos_e_beneficios = dados_atualizados['Carteira_Direitos_Sem_Aquisicao_Inadimplentes'] + dados_atualizados['valor_nao_pago_sem_beneficios'] + dados_atualizados['Negocios_Substituicoes_Valor'] + dados_atualizados['Negocios_Recompras_Valor'] - dados_atualizados['Ativo_Direitos_Sem_Aquisicao_Provisao_Reducao'])\n",
    "dados_atualizados  = dados_atualizados.assign(vr_com_riscos_e_beneficios = dados_atualizados['Carteira_Direitos_Aquisicao_Inadimplentes'] + dados_atualizados['valor_nao_pago_com_beneficios'] + dados_atualizados['Negocios_Substituicoes_Valor'] + dados_atualizados['Negocios_Recompras_Valor'] - dados_atualizados['Ativo_Direitos_Aquisicao_Provisao_Reducao'])\n",
    "\n",
    "dados_atualizados = dados_atualizados.assign(vr = (dados_atualizados['vr_sem_riscos_e_beneficios'] + dados_atualizados['vr_com_riscos_e_beneficios']).div(dados_atualizados['Patrimonio_Liquido']).replace(np.inf, 0))\n",
    "\n",
    "dados_atualizados['vr'] = dados_atualizados['vr'].apply(lambda x: x if x>=0 else 0)\n",
    "\n",
    "dados_atualizados[['vr', 'vr_sem_riscos_e_beneficios', 'vr_com_riscos_e_beneficios']].describe()"
   ]
  },
  {
   "cell_type": "markdown",
   "metadata": {},
   "source": [
    "Preciso retirar outliers e dados inconsistentes para prosseguir sem prejudicar o tratamento futuro dos dados e o valor do VR"
   ]
  },
  {
   "cell_type": "code",
   "execution_count": null,
   "metadata": {},
   "outputs": [],
   "source": [
    "#identificando outliers e possíveis inconsistências\n",
    "dados_atualizados[['ID_Participante', 'vr', 'Patrimonio_Liquido', 'Carteira_Direitos_Sem_Aquisicao_Inadimplentes', 'Carteira_Direitos_Aquisicao_Inadimplentes', 'valor_nao_pago_sem_beneficios','valor_nao_pago_com_beneficios', 'Negocios_Substituicoes_Valor', 'Negocios_Recompras_Valor', 'Ativo_Direitos_Sem_Aquisicao_Provisao_Reducao', 'Ativo_Direitos_Aquisicao_Provisao_Reducao']][dados_atualizados['ID_Participante']==dados_atualizados['vr'].max()]"
   ]
  },
  {
   "cell_type": "code",
   "execution_count": null,
   "metadata": {},
   "outputs": [],
   "source": [
    "#retirando outliers e inconsistências\n",
    "dados_atualizados = dados_atualizados.query('Patrimonio_Liquido >= 1000000')\n",
    "dados_atualizados = dados_atualizados.query('ID_Participante != 117735')\n",
    "dados_atualizados['vr'].describe()"
   ]
  },
  {
   "cell_type": "code",
   "execution_count": null,
   "metadata": {},
   "outputs": [],
   "source": [
    "#normalizando dados numéricos\n",
    "cols = dados_atualizados.select_dtypes(include='number').columns\n",
    "\n",
    "#excluindo colunas de identificadores\n",
    "cols=cols.delete([0,1,2])\n",
    "\n",
    "scaler = MinMaxScaler()\n",
    "scaler.fit(dados_atualizados[cols])\n",
    "dados_atualizados[cols] = scaler.transform(dados_atualizados[cols])\n",
    "\n",
    "dados_atualizados[cols].describe()"
   ]
  },
  {
   "cell_type": "markdown",
   "metadata": {},
   "source": [
    "Tratados os dados nulos e os outliers, normalizadas as variáveis numéricas e agregados os dois documentos, preciso plotar gráficos para testar a hipótese do novo valor de risco."
   ]
  },
  {
   "cell_type": "code",
   "execution_count": null,
   "metadata": {},
   "outputs": [],
   "source": [
    "fundo_quebrado = dados_atualizados.query('ID_Participante == 104904')\n",
    "plt.figure(figsize=(15, 6))\n",
    "plt.plot(fundo_quebrado['Carteira_Direitos_Sem_Aquisicao_Inadimplentes'], color='red', label='Inadimplentes_Sem')\n",
    "plt.plot(fundo_quebrado['Carteira_Direitos_Aquisicao_Inadimplentes'], color='blue', label='Inadimplentes_Com')\n",
    "plt.plot(fundo_quebrado['Patrimonio_Liquido'], color='purple', label='PL')\n",
    "plt.xlabel('Tempo')\n",
    "plt.ylabel('Valor')\n",
    "plt.title('Inadimplência e PL x Tempo')\n",
    "plt.legend()\n",
    "plt.grid(True)\n",
    "plt.show()"
   ]
  },
  {
   "cell_type": "code",
   "execution_count": null,
   "metadata": {},
   "outputs": [],
   "source": [
    "fundo_quebrado = dados_atualizados.query('ID_Participante == 104904')\n",
    "plt.figure(figsize=(15, 6))\n",
    "plt.plot(fundo_quebrado['vr'], color='red', label='VR PL')\n",
    "plt.xlabel('Tempo')\n",
    "plt.ylabel('Valor')\n",
    "plt.title('VR x Tempo')\n",
    "plt.legend()\n",
    "plt.grid(True)\n",
    "plt.show()"
   ]
  },
  {
   "cell_type": "code",
   "execution_count": null,
   "metadata": {},
   "outputs": [],
   "source": [
    "fundo_quebrado = dados_atualizados.query('ID_Participante == 190151')\n",
    "plt.figure(figsize=(15, 6))\n",
    "plt.plot(fundo_quebrado['Carteira_Direitos_Sem_Aquisicao_Inadimplentes'], color='red', label='Inadimplentes_Sem')\n",
    "plt.plot(fundo_quebrado['Carteira_Direitos_Aquisicao_Inadimplentes'], color='blue', label='Inadimplentes_Com')\n",
    "plt.plot(fundo_quebrado['Patrimonio_Liquido'], color='purple', label='PL')\n",
    "plt.xlabel('Tempo')\n",
    "plt.ylabel('Valor')\n",
    "plt.title('Inadimplência e PL x Tempo')\n",
    "plt.legend()\n",
    "plt.grid(True)\n",
    "plt.show()"
   ]
  },
  {
   "cell_type": "code",
   "execution_count": null,
   "metadata": {},
   "outputs": [],
   "source": [
    "fundo_quebrado = dados_atualizados.query('ID_Participante == 190151')\n",
    "plt.figure(figsize=(15, 6))\n",
    "plt.plot(fundo_quebrado['vr'], color='red', label='VR PL')\n",
    "plt.xlabel('Tempo')\n",
    "plt.ylabel('Valor')\n",
    "plt.title('VR x Tempo')\n",
    "plt.legend()\n",
    "plt.grid(True)\n",
    "plt.show()"
   ]
  },
  {
   "cell_type": "code",
   "execution_count": null,
   "metadata": {},
   "outputs": [],
   "source": [
    "fundo_quebrado = dados_atualizados.query('ID_Participante == 133664')\n",
    "plt.figure(figsize=(15, 6))\n",
    "plt.plot(fundo_quebrado['Carteira_Direitos_Sem_Aquisicao_Inadimplentes'], color='red', label='Inadimplentes_Sem')\n",
    "plt.plot(fundo_quebrado['Carteira_Direitos_Aquisicao_Inadimplentes'], color='blue', label='Inadimplentes_Com')\n",
    "plt.plot(fundo_quebrado['Patrimonio_Liquido'], color='purple', label='PL')\n",
    "plt.xlabel('Tempo')\n",
    "plt.ylabel('Valor')\n",
    "plt.title('Inadimplência e PL x Tempo')\n",
    "plt.legend()\n",
    "plt.grid(True)\n",
    "plt.show()"
   ]
  },
  {
   "cell_type": "code",
   "execution_count": null,
   "metadata": {},
   "outputs": [],
   "source": [
    "fundo_quebrado = dados_atualizados.query('ID_Participante == 133664')\n",
    "plt.figure(figsize=(15, 6))\n",
    "plt.plot(fundo_quebrado['vr'], color='red', label='VR PL')\n",
    "plt.xlabel('Tempo')\n",
    "plt.ylabel('Valor')\n",
    "plt.title('VR x Tempo')\n",
    "plt.legend()\n",
    "plt.grid(True)\n",
    "plt.show()"
   ]
  },
  {
   "cell_type": "markdown",
   "metadata": {},
   "source": [
    "Matrizes de correlação"
   ]
  },
  {
   "cell_type": "code",
   "execution_count": null,
   "metadata": {},
   "outputs": [],
   "source": [
    "cols = ['vr', 'Carteira_Comercial', 'Carteira_Outros_Financeiro','Ativo_Cotas_Fundos_ICVM_555', 'Ativo_Valores_Mobiliarios', 'Ativo_Titulos_Federais', 'Ativo_Outros', 'Ativo_Outros_Ativos_Renda_Fixa', 'Ativo_Operacoes_Compromissadas', 'Ativo_Longo Prazo', 'Ativo_Disponibilidades', 'Valor_Cota_Subordinada', 'Rentabilidade_Subordinada', 'Desempenho_Esperado_Subordinada', 'Desempenho_Realizado_Subordinada', 'Valor_Cota_Senior', 'Rentabilidade_Senior', 'Desempenho_Esperado_Senior', 'Desempenho_Realizado_Senior', 'Numero_Cotistas_Senior', 'Quantidade_Cotas_Senior', 'Numero_Cotistas_Subordinada', 'Quantidade_Cotas_Subordinada']\n",
    "data = dados_atualizados.query('ID_Participante == 92126')[cols]\n",
    "plt.figure(figsize=(25,13))\n",
    "sb.heatmap(data.corr(), annot=True, cmap='coolwarm', center=0)\n",
    "plt.title('Matriz de Correlação')\n",
    "plt.show()"
   ]
  },
  {
   "cell_type": "code",
   "execution_count": null,
   "metadata": {},
   "outputs": [],
   "source": [
    "cols = ['vr', 'Carteira_Industrial', 'Carteira_Mercado_Imobiliario', 'Carteira_Comercial', 'Carteira_Comercial_Total', 'Carteira_Comercial_Varejo', 'Carteira_Servicos_Total', 'Carteira_Servicos', 'Ativo_Disponibilidades', 'Ativo_Cotas_Fundos_ICVM_555', 'Ativo_Valores_Mobiliarios', 'Ativo_Titulos_Federais','Ativo_Letras Financeiras', 'Ativo_Titulos_Federais', 'Ativo_Outros_Valores_Mobiliarios', 'Ativo_Debentures', 'Ativo_CRI', 'Valor_Cota_Subordinada', 'Rentabilidade_Subordinada', 'Desempenho_Realizado_Subordinada', 'Valor_Cota_Senior', 'Rentabilidade_Senior', 'Desempenho_Realizado_Senior', 'Numero_Cotistas_Senior', 'Quantidade_Cotas_Senior', 'Numero_Cotistas_Subordinada', 'Quantidade_Cotas_Subordinada']\n",
    "data = dados_atualizados.query('ID_Participante == 157489')[cols]\n",
    "plt.figure(figsize=(25,13))\n",
    "sb.heatmap(data.corr(), annot=True, cmap='coolwarm', center=0)\n",
    "plt.title('Matriz de Correlação')\n",
    "plt.show()"
   ]
  },
  {
   "cell_type": "code",
   "execution_count": null,
   "metadata": {},
   "outputs": [],
   "source": [
    "cols = ['vr', 'Carteira_Comercial_Total', 'Carteira_Comercial', 'Ativo_Titulos_Federais', 'Valor_Cota_Subordinada', 'Rentabilidade_Subordinada', 'Desempenho_Esperado_Subordinada', 'Desempenho_Realizado_Subordinada', 'Numero_Cotistas_Senior', 'Quantidade_Cotas_Senior', 'Numero_Cotistas_Subordinada', 'Quantidade_Cotas_Subordinada']\n",
    "data = dados_atualizados.query('ID_Participante == 129648')[cols]\n",
    "plt.figure(figsize=(15,8))\n",
    "sb.heatmap(data.corr(), annot=True, cmap='coolwarm', center=0)\n",
    "plt.title('Matriz de Correlação')\n",
    "plt.show()"
   ]
  },
  {
   "cell_type": "code",
   "execution_count": null,
   "metadata": {},
   "outputs": [],
   "source": [
    "cols = ['vr', 'Ativo_Curto_Prazo', 'Ativo_Longo Prazo', 'Ativo_Outros_Valores_Mobiliarios', 'Ativo_Valores_Mobiliarios', 'Ativo_Outros', 'Ativo_Outros_Ativos_Renda_Fixa', 'Carteira_Comercial', 'Carteira_Comercial_Total','Carteira_Outros_Financeiro', 'Valor_Cota_Subordinada', 'Rentabilidade_Subordinada', 'Desempenho_Esperado_Subordinada', 'Desempenho_Realizado_Subordinada', 'Numero_Cotistas_Subordinada', 'Quantidade_Cotas_Subordinada']\n",
    "data = dados_atualizados.query('ID_Participante == 133664')[cols]\n",
    "plt.figure(figsize=(25,13))\n",
    "sb.heatmap(data.corr(), annot=True, cmap='coolwarm', center=0)\n",
    "plt.title('Matriz de Correlação')\n",
    "plt.show()"
   ]
  },
  {
   "cell_type": "code",
   "execution_count": null,
   "metadata": {},
   "outputs": [],
   "source": [
    "cols = ['vr','Carteira_Comercial_Total', 'Carteira_Comercial', 'Valor_Cota_Subordinada', 'Rentabilidade_Subordinada', 'Desempenho_Esperado_Subordinada', 'Desempenho_Realizado_Subordinada', 'Valor_Cota_Senior', 'Rentabilidade_Senior', 'Desempenho_Esperado_Senior', 'Desempenho_Realizado_Senior', 'Numero_Cotistas_Senior', 'Quantidade_Cotas_Senior', 'Numero_Cotistas_Subordinada', 'Quantidade_Cotas_Subordinada','Ativo_Titulos_Federais', 'Ativo_Outros', 'Ativo_Curto_Prazo', 'Ativo_Longo Prazo', 'Ativo_Operacoes_Compromissadas', 'Ativo_Cotas_Fundos_ICVM_555', 'Ativo_Valores_Mobiliarios']\n",
    "data = dados_atualizados.query('ID_Participante == 171608')[cols]\n",
    "plt.figure(figsize=(25,13))\n",
    "sb.heatmap(data.corr(), annot=True, cmap='coolwarm', center=0)\n",
    "plt.title('Matriz de Correlação')\n",
    "plt.show()"
   ]
  },
  {
   "cell_type": "code",
   "execution_count": null,
   "metadata": {},
   "outputs": [],
   "source": [
    "cols = ['vr','Valor_Cota_Subordinada', 'Rentabilidade_Subordinada', 'Desempenho_Esperado_Subordinada', 'Desempenho_Realizado_Subordinada', 'Valor_Cota_Senior', 'Rentabilidade_Senior', 'Desempenho_Esperado_Senior', 'Desempenho_Realizado_Senior', 'Numero_Cotistas_Senior', 'Quantidade_Cotas_Senior', 'Numero_Cotistas_Subordinada', 'Quantidade_Cotas_Subordinada','Ativo_Titulos_Federais', 'Ativo_Valores_Mobiliarios', 'Ativo_Outros', 'Ativo_Curto_Prazo', 'Ativo_Cotas_FIDC', 'Ativo_Cotas_Fundos_ICVM_555']\n",
    "data = dados_atualizados.query('ID_Participante == 173232')[cols]\n",
    "plt.figure(figsize=(25,13))\n",
    "sb.heatmap(data.corr(), annot=True, cmap='coolwarm', center=0)\n",
    "plt.title('Matriz de Correlação')\n",
    "plt.show()"
   ]
  }
 ],
 "metadata": {
  "kernelspec": {
   "display_name": "Python 3",
   "language": "python",
   "name": "python3"
  },
  "language_info": {
   "codemirror_mode": {
    "name": "ipython",
    "version": 3
   },
   "file_extension": ".py",
   "mimetype": "text/x-python",
   "name": "python",
   "nbconvert_exporter": "python",
   "pygments_lexer": "ipython3",
   "version": "3.11.4"
  },
  "orig_nbformat": 4
 },
 "nbformat": 4,
 "nbformat_minor": 2
}
